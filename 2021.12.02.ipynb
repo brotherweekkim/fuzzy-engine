{
 "cells": [
  {
   "cell_type": "markdown",
   "id": "f1c22a87-fce6-4a4d-8d28-444ade2e4b18",
   "metadata": {},
   "source": [
    "12월 2일 헷갈렸던 내용\n"
   ]
  },
  {
   "cell_type": "markdown",
   "id": "5b0c4850-a07e-415f-b385-f1a7c93b616f",
   "metadata": {},
   "source": [
    "하고 싶었던 내용은 이중 리스트 x에서 x[i][0]의 최대값(A)과 최소값(B), x[i][1]의 최소값(C)과 최대값(D)을 구해 \n",
    "\n",
    "새로운 리스트 c=[[A,C],[A,D],[B,C],[B,D]]를 만들고 싶었다.\n",
    "\n",
    "아래는 실제 코드\n"
   ]
  },
  {
   "cell_type": "code",
   "execution_count": 1,
   "id": "951597e4-dc70-481c-a28d-402f568cb4a9",
   "metadata": {
    "scrolled": true,
    "tags": []
   },
   "outputs": [],
   "source": [
    "x = [[115.70873977904238,430.4367511234101],[67.12565230086157,449.85495042221055],[229.0692772281301,1271.8920540714298],[280.89123720485617,1271.8920540714298],[332.7131971815819,1249.2374882228291],[290.6078547004924,1051.8191286850247],[1935.9550839615401,1071.237327983825],[1945.671701457176,1333.3830185176312],[2023.4046414222648,1333.3830185176312],[2026.6435139208104,1074.4736945336251],[3795.067898126582,1103.6009934818258],[3759.440300642583,1343.0921181670315],[3772.395790636764,1362.5103174658318],[3853.367603100399,1372.2194171152319],[4012.0723555291215,631.0914772110148],[4018.550100526213,472.509516270811],[3960.2503955523953,469.27314972101095],[3957.011523053851,446.61858387241045],[3927.861670566942,407.7821852748094],[164.29182725722282,398.0730856254093]]"
   ]
  },
  {
   "cell_type": "markdown",
   "id": "56ce690f-7c42-423b-9d5a-78e236d1897d",
   "metadata": {},
   "source": [
    "우선 배열 a에 x[i][0] 값을 먼저 넣어보려 했다.\n",
    "\n",
    "처음에 헤맸던 내용"
   ]
  },
  {
   "cell_type": "code",
   "execution_count": 8,
   "id": "32c3e196-79d5-403f-ac5f-97c8e03f63d1",
   "metadata": {},
   "outputs": [
    {
     "ename": "IndexError",
     "evalue": "list assignment index out of range",
     "output_type": "error",
     "traceback": [
      "\u001b[1;31m---------------------------------------------------------------------------\u001b[0m",
      "\u001b[1;31mIndexError\u001b[0m                                Traceback (most recent call last)",
      "\u001b[1;32m<ipython-input-8-14e2543cda54>\u001b[0m in \u001b[0;36m<module>\u001b[1;34m\u001b[0m\n\u001b[0;32m      1\u001b[0m \u001b[1;32mfor\u001b[0m \u001b[0mi\u001b[0m \u001b[1;32min\u001b[0m \u001b[0mrange\u001b[0m\u001b[1;33m(\u001b[0m\u001b[0mlen\u001b[0m\u001b[1;33m(\u001b[0m\u001b[0mx\u001b[0m\u001b[1;33m)\u001b[0m\u001b[1;33m)\u001b[0m\u001b[1;33m:\u001b[0m\u001b[1;33m\u001b[0m\u001b[1;33m\u001b[0m\u001b[0m\n\u001b[0;32m      2\u001b[0m     \u001b[0ma\u001b[0m \u001b[1;33m=\u001b[0m \u001b[1;33m[\u001b[0m\u001b[1;33m]\u001b[0m\u001b[1;33m\u001b[0m\u001b[1;33m\u001b[0m\u001b[0m\n\u001b[1;32m----> 3\u001b[1;33m     \u001b[0ma\u001b[0m\u001b[1;33m[\u001b[0m\u001b[0mi\u001b[0m\u001b[1;33m]\u001b[0m \u001b[1;33m=\u001b[0m \u001b[0mx\u001b[0m\u001b[1;33m[\u001b[0m\u001b[0mi\u001b[0m\u001b[1;33m]\u001b[0m\u001b[1;33m[\u001b[0m\u001b[1;36m0\u001b[0m\u001b[1;33m]\u001b[0m\u001b[1;33m\u001b[0m\u001b[1;33m\u001b[0m\u001b[0m\n\u001b[0m\u001b[0;32m      4\u001b[0m \u001b[0mprint\u001b[0m\u001b[1;33m(\u001b[0m\u001b[0ma\u001b[0m\u001b[1;33m)\u001b[0m\u001b[1;33m\u001b[0m\u001b[1;33m\u001b[0m\u001b[0m\n",
      "\u001b[1;31mIndexError\u001b[0m: list assignment index out of range"
     ]
    }
   ],
   "source": [
    "for i in range(len(x)):\n",
    "    a = []\n",
    "    a[i] = x[i][0]\n",
    "print(a)"
   ]
  },
  {
   "cell_type": "markdown",
   "id": "b173ffcf-aa2b-47d8-974a-184ffca5df66",
   "metadata": {},
   "source": [
    "list assignment index out of range 라는 오류가 떴다.\n",
    "\n",
    "그래서 검색결과 append 함수를 쓰기로 했다.list assignment index out of range"
   ]
  },
  {
   "cell_type": "code",
   "execution_count": 9,
   "id": "f921220e-b5c7-4901-b02c-0cb84d11c929",
   "metadata": {},
   "outputs": [
    {
     "name": "stdout",
     "output_type": "stream",
     "text": [
      "[164.29182725722282]\n"
     ]
    }
   ],
   "source": [
    "for i in range(len(x)):\n",
    "    a = []\n",
    "    a.append(x[i][0])\n",
    "print(a)"
   ]
  },
  {
   "cell_type": "markdown",
   "id": "a35b77d9-751b-41fd-b134-f03a992b6490",
   "metadata": {},
   "source": [
    "왜 마지막 꺼만 나올까...\n",
    "\n",
    "이 문제로 한참을 고민하고 찾아봤는데 답은 어이없게도..."
   ]
  },
  {
   "cell_type": "code",
   "execution_count": 10,
   "id": "64862bdf-da19-49d2-b70a-adad91f1da79",
   "metadata": {},
   "outputs": [
    {
     "name": "stdout",
     "output_type": "stream",
     "text": [
      "[115.70873977904238, 67.12565230086157, 229.0692772281301, 280.89123720485617, 332.7131971815819, 290.6078547004924, 1935.9550839615401, 1945.671701457176, 2023.4046414222648, 2026.6435139208104, 3795.067898126582, 3759.440300642583, 3772.395790636764, 3853.367603100399, 4012.0723555291215, 4018.550100526213, 3960.2503955523953, 3957.011523053851, 3927.861670566942, 164.29182725722282]\n"
     ]
    }
   ],
   "source": [
    "a = []\n",
    "for i in range(len(x)):\n",
    "    a.append(x[i][0])\n",
    "print(a)"
   ]
  },
  {
   "cell_type": "markdown",
   "id": "8d338613-707f-4e84-a7b7-7f68a714a671",
   "metadata": {},
   "source": [
    "ㅎㅎ.. 그래서 나온 최종 코드는"
   ]
  },
  {
   "cell_type": "code",
   "execution_count": 13,
   "id": "e8b89419-3b9c-485f-8f82-5a2374f395ec",
   "metadata": {},
   "outputs": [
    {
     "name": "stdout",
     "output_type": "stream",
     "text": [
      "[[4018.550100526213, 1372.2194171152319], [4018.550100526213, 398.0730856254093], [67.12565230086157, 1372.2194171152319], [67.12565230086157, 398.0730856254093]]\n"
     ]
    }
   ],
   "source": [
    "a = []\n",
    "b = []\n",
    "c = []\n",
    "for i in range(len(x)):\n",
    "    a.append(x[i][0])\n",
    "    b.append(x[i][1])\n",
    "c = [[max(a),max(b)],[max(a),min(b)],[min(a),max(b)],[min(a),min(b)]]\n",
    "print(c)"
   ]
  },
  {
   "cell_type": "markdown",
   "id": "d717d195-8f78-4ea5-899e-3d3e50408ae4",
   "metadata": {},
   "source": [
    "이걸 하는데 1시간이 걸렸다 하하"
   ]
  },
  {
   "cell_type": "code",
   "execution_count": null,
   "id": "ac7a239a-e84a-4a50-909a-dc6ffb548187",
   "metadata": {},
   "outputs": [],
   "source": []
  }
 ],
 "metadata": {
  "kernelspec": {
   "display_name": "Python 3",
   "language": "python",
   "name": "python3"
  },
  "language_info": {
   "codemirror_mode": {
    "name": "ipython",
    "version": 3
   },
   "file_extension": ".py",
   "mimetype": "text/x-python",
   "name": "python",
   "nbconvert_exporter": "python",
   "pygments_lexer": "ipython3",
   "version": "3.8.8"
  }
 },
 "nbformat": 4,
 "nbformat_minor": 5
}
